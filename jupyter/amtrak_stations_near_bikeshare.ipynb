{
 "cells": [
  {
   "cell_type": "code",
   "execution_count": null,
   "id": "de7b89ed-b599-40d4-98eb-0586be68d382",
   "metadata": {
    "jupyter": {
     "source_hidden": true
    }
   },
   "outputs": [],
   "source": [
    "from ipyleaflet import (\n",
    "    Map,\n",
    "    Marker,\n",
    "    Popup,\n",
    "    LayerGroup,\n",
    "    MarkerCluster,\n",
    "    WidgetControl,\n",
    "    AwesomeIcon,\n",
    ")\n",
    "from ipywidgets import HTML, IntSlider, jslink, Button, Layout\n",
    "import db"
   ]
  },
  {
   "cell_type": "code",
   "execution_count": null,
   "id": "6d9ca93d-23c0-4bbf-96b8-7fb9aa9f8ee8",
   "metadata": {},
   "outputs": [],
   "source": [
    "def reset(self):\n",
    "    m.center = (38, -90)\n",
    "    m.zoom = 4\n",
    "\n",
    "\n",
    "m = Map(height=\"800px\")\n",
    "reset(None)\n",
    "\n",
    "map_markers = LayerGroup()\n",
    "m.add(map_markers)\n",
    "\n",
    "button = Button(icon=\"home\", tooltip=\"Reset Zoom\", layout=Layout(width=\"35px\"))\n",
    "button.on_click(reset)\n",
    "m.add(WidgetControl(widget=button, position=\"topleft\"))\n",
    "\n",
    "max_distance_slider = IntSlider(\n",
    "    value=400,\n",
    "    min=20,\n",
    "    max=1600,\n",
    "    step=20,\n",
    "    description=\"Max Distance:\",\n",
    "    style=dict(description_width=\"100px\"),\n",
    "    continuous_update=False,\n",
    ")\n",
    "m.add(WidgetControl(widget=max_distance_slider, position=\"topright\"))\n",
    "\n",
    "display(m)"
   ]
  },
  {
   "cell_type": "code",
   "execution_count": null,
   "id": "32e3f3f8-5ae3-43e4-a1c9-cbf61dcc8843",
   "metadata": {},
   "outputs": [],
   "source": [
    "def draw_markers(change):\n",
    "    map_markers.clear_layers()\n",
    "\n",
    "    rows = db.query(\n",
    "        f\"\"\"\n",
    "    select code, station_lat, station_lon, bikeshare_lat, bikeshare_lon, station_name, bikeshare_name, dist from int_amtrak_stations_to_bikeshare \n",
    "    where dist < {int(change['new'])} order by dist asc\n",
    "    \"\"\"\n",
    "    ).fetchall()\n",
    "\n",
    "    stations = {}\n",
    "\n",
    "    for row in rows:\n",
    "        if row[0] not in stations:\n",
    "            stations[row[0]] = []\n",
    "        stations[row[0]].append(row[1:])\n",
    "\n",
    "    for code, rows in stations.items():\n",
    "        markers = []\n",
    "\n",
    "        message = HTML()\n",
    "        message.value = f\"<b>{code}</b><br>{rows[0][4]}\"\n",
    "        markers.append(\n",
    "            Marker(\n",
    "                location=(rows[0][0], rows[0][1]),\n",
    "                draggable=False,\n",
    "                popup=message,\n",
    "                icon=AwesomeIcon(name=\"train\", marker_color=\"green\"),\n",
    "            )\n",
    "        )\n",
    "        for row in rows:\n",
    "            message = HTML()\n",
    "            message.value = f\"{row[5]}<br>{row[6]}m\"\n",
    "            markers.append(\n",
    "                Marker(\n",
    "                    location=(row[2], row[3]),\n",
    "                    draggable=False,\n",
    "                    popup=message,\n",
    "                    icon=AwesomeIcon(name=\"bicycle\"),\n",
    "                )\n",
    "            )\n",
    "\n",
    "        map_markers.add(\n",
    "            MarkerCluster(\n",
    "                markers=markers,\n",
    "                spiderfy_on_max_zoom=False,\n",
    "                disable_clustering_at_zoom=14,\n",
    "            )\n",
    "        )\n",
    "\n",
    "\n",
    "draw_markers({\"new\": 400})\n",
    "\n",
    "max_distance_slider.observe(draw_markers, names=\"value\")"
   ]
  }
 ],
 "metadata": {
  "kernelspec": {
   "display_name": "Python 3 (ipykernel)",
   "language": "python",
   "name": "python3"
  },
  "language_info": {
   "codemirror_mode": {
    "name": "ipython",
    "version": 3
   },
   "file_extension": ".py",
   "mimetype": "text/x-python",
   "name": "python",
   "nbconvert_exporter": "python",
   "pygments_lexer": "ipython3",
   "version": "3.11.10"
  }
 },
 "nbformat": 4,
 "nbformat_minor": 5
}
