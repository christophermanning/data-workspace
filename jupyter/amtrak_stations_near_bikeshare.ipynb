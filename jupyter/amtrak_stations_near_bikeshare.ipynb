{
 "cells": [
  {
   "cell_type": "code",
   "execution_count": 1,
   "id": "6d785ec9-a0b3-4604-8fcc-7c5317f011a4",
   "metadata": {},
   "outputs": [],
   "source": [
    "%%capture\n",
    "pip install ipyleaflet"
   ]
  },
  {
   "cell_type": "code",
   "execution_count": 2,
   "id": "de7b89ed-b599-40d4-98eb-0586be68d382",
   "metadata": {},
   "outputs": [],
   "source": [
    "from ipyleaflet import Map, Marker, Popup, LayerGroup, MarkerCluster, WidgetControl, AwesomeIcon\n",
    "from ipywidgets import HTML, IntSlider, jslink, Button, Layout"
   ]
  },
  {
   "cell_type": "code",
   "execution_count": 3,
   "id": "255b6f33-d8c0-4859-9556-e7ce2e9fd30e",
   "metadata": {},
   "outputs": [],
   "source": [
    "import duckdb\n",
    "duckdb = duckdb.connect('/duckdb/dev.duckdb', config={})\n",
    "duckdb.query(\"INSTALL SPATIAL; LOAD SPATIAL\")"
   ]
  },
  {
   "cell_type": "code",
   "execution_count": 4,
   "id": "6d9ca93d-23c0-4bbf-96b8-7fb9aa9f8ee8",
   "metadata": {},
   "outputs": [
    {
     "data": {
      "application/vnd.jupyter.widget-view+json": {
       "model_id": "a8426fcbaa704eb08b3ba598ed25c4b1",
       "version_major": 2,
       "version_minor": 0
      },
      "text/plain": [
       "Map(center=[38, -90], controls=(ZoomControl(options=['position', 'zoom_in_text', 'zoom_in_title', 'zoom_out_te…"
      ]
     },
     "metadata": {},
     "output_type": "display_data"
    }
   ],
   "source": [
    "def reset(self):\n",
    "    m.center = (38, -90)\n",
    "    m.zoom = 4\n",
    "\n",
    "m = Map(height='800px')\n",
    "reset(None)\n",
    "\n",
    "map_markers = LayerGroup()\n",
    "m.add(map_markers)\n",
    "\n",
    "button = Button(icon=\"home\", tooltip=\"Reset Zoom\", layout=Layout(width='35px'))\n",
    "button.on_click(reset)\n",
    "m.add(WidgetControl(widget=button, position='topleft'))\n",
    "\n",
    "max_distance_slider = IntSlider(value=400, min=20, max=1600, step=20, description='Max Distance:', style=dict(description_width='100px'), continuous_update=False)\n",
    "m.add(WidgetControl(widget=max_distance_slider, position='topright'))\n",
    "\n",
    "display(m)"
   ]
  },
  {
   "cell_type": "code",
   "execution_count": 5,
   "id": "32e3f3f8-5ae3-43e4-a1c9-cbf61dcc8843",
   "metadata": {},
   "outputs": [],
   "source": [
    "def draw_markers(change):\n",
    "    map_markers.clear_layers()\n",
    "    \n",
    "    rows = duckdb.query(f\"\"\"\n",
    "    select code, station_lat, station_lon, bikeshare_lat, bikeshare_lon, station_name, bikeshare_name, dist from int_amtrak_stations_to_bikeshare \n",
    "    where dist < {int(change['new'])} order by dist asc\n",
    "    \"\"\").fetchall()\n",
    "    \n",
    "    stations = {}\n",
    "    \n",
    "    for row in rows:\n",
    "        if row[0] not in stations:\n",
    "            stations[row[0]] = []\n",
    "        stations[row[0]].append(row[1:])\n",
    "    \n",
    "    for code, rows in stations.items():\n",
    "        markers = []\n",
    "    \n",
    "        message = HTML()\n",
    "        message.value = f\"<b>{code}</b><br>{rows[0][4]}\"\n",
    "        markers.append(Marker(location=(rows[0][0], rows[0][1]), draggable=False, popup=message, icon=AwesomeIcon(name='train', marker_color=\"green\")))\n",
    "        for row in rows:\n",
    "            message = HTML()\n",
    "            message.value = f\"{row[5]}<br>{row[6]}m\"\n",
    "            markers.append(Marker(location=(row[2], row[3]), draggable=False, popup=message, icon=AwesomeIcon(name='bicycle')))\n",
    "    \n",
    "        map_markers.add(MarkerCluster(markers=markers, spiderfy_on_max_zoom=False, disable_clustering_at_zoom=14))\n",
    "\n",
    "draw_markers({'new': 400})\n",
    "\n",
    "max_distance_slider.observe(draw_markers, names='value')"
   ]
  }
 ],
 "metadata": {
  "kernelspec": {
   "display_name": "Python 3 (ipykernel)",
   "language": "python",
   "name": "python3"
  },
  "language_info": {
   "codemirror_mode": {
    "name": "ipython",
    "version": 3
   },
   "file_extension": ".py",
   "mimetype": "text/x-python",
   "name": "python",
   "nbconvert_exporter": "python",
   "pygments_lexer": "ipython3",
   "version": "3.11.10"
  }
 },
 "nbformat": 4,
 "nbformat_minor": 5
}
