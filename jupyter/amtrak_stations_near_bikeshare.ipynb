{
 "cells": [
  {
   "cell_type": "code",
   "execution_count": 1,
   "id": "6d785ec9-a0b3-4604-8fcc-7c5317f011a4",
   "metadata": {},
   "outputs": [],
   "source": [
    "%%capture\n",
    "pip install ipyleaflet"
   ]
  },
  {
   "cell_type": "code",
   "execution_count": 2,
   "id": "de7b89ed-b599-40d4-98eb-0586be68d382",
   "metadata": {},
   "outputs": [],
   "source": [
    "from ipyleaflet import Map, Marker, Popup, LayerGroup, MarkerCluster, WidgetControl, AwesomeIcon\n",
    "from ipywidgets import HTML, IntSlider, jslink"
   ]
  },
  {
   "cell_type": "code",
   "execution_count": 3,
   "id": "255b6f33-d8c0-4859-9556-e7ce2e9fd30e",
   "metadata": {},
   "outputs": [],
   "source": [
    "import duckdb\n",
    "duckdb = duckdb.connect('/duckdb/dev.duckdb', config={})\n",
    "duckdb.query(\"INSTALL SPATIAL; LOAD SPATIAL\")"
   ]
  },
  {
   "cell_type": "code",
   "execution_count": 4,
   "id": "d42d01d1-c87e-4cbf-bcf0-290e0f1ab775",
   "metadata": {},
   "outputs": [
    {
     "data": {
      "application/vnd.jupyter.widget-view+json": {
       "model_id": "d8cb9ea5b7084088b5d69911c93568c5",
       "version_major": 2,
       "version_minor": 0
      },
      "text/plain": [
       "Map(center=[38, -90], controls=(ZoomControl(options=['position', 'zoom_in_text', 'zoom_in_title', 'zoom_out_te…"
      ]
     },
     "metadata": {},
     "output_type": "display_data"
    }
   ],
   "source": [
    "center = (38, -90)\n",
    "m = Map(center=center, zoom=4, height='800px')\n",
    "\n",
    "map_markers = LayerGroup()\n",
    "m.add(map_markers)\n",
    "\n",
    "zoom_slider = IntSlider(description='Zoom:', min=4, max=15, value=4)\n",
    "jslink((zoom_slider, 'value'), (m, 'zoom'))\n",
    "widget_control1 = WidgetControl(widget=zoom_slider, position='topright')\n",
    "m.add(widget_control1)\n",
    "\n",
    "display(m)"
   ]
  },
  {
   "cell_type": "code",
   "execution_count": 8,
   "id": "32e3f3f8-5ae3-43e4-a1c9-cbf61dcc8843",
   "metadata": {},
   "outputs": [],
   "source": [
    "map_markers.clear_layers()\n",
    "\n",
    "rows = duckdb.query(\"select code, station_lat, station_lon, bikeshare_lat, bikeshare_lon, station_name, bikeshare_name from int_amtrak_stations_to_bikeshare where dist < 400 order by dist asc\").fetchall()\n",
    "\n",
    "stations = {}\n",
    "\n",
    "for row in rows:\n",
    "    if row[0] not in stations:\n",
    "        stations[row[0]] = []\n",
    "    stations[row[0]].append(row[1:])\n",
    "\n",
    "for code, rows in stations.items():\n",
    "    markers = []\n",
    "\n",
    "    message = HTML()\n",
    "    message.value = f\"<b>{code}</b><br>{rows[0][4]}\"\n",
    "    markers.append(Marker(location=(rows[0][0], rows[0][1]), draggable=False, popup=message, icon=AwesomeIcon(name='train')))\n",
    "    for row in rows:\n",
    "        message = HTML()\n",
    "        message.value = f\"{row[5]}\"\n",
    "        markers.append(Marker(location=(row[2], row[3]), draggable=False, popup=message, icon=AwesomeIcon(name='bicycle')))\n",
    "\n",
    "    map_markers.add(MarkerCluster(markers=markers))"
   ]
  }
 ],
 "metadata": {
  "kernelspec": {
   "display_name": "Python 3 (ipykernel)",
   "language": "python",
   "name": "python3"
  },
  "language_info": {
   "codemirror_mode": {
    "name": "ipython",
    "version": 3
   },
   "file_extension": ".py",
   "mimetype": "text/x-python",
   "name": "python",
   "nbconvert_exporter": "python",
   "pygments_lexer": "ipython3",
   "version": "3.11.10"
  }
 },
 "nbformat": 4,
 "nbformat_minor": 5
}
