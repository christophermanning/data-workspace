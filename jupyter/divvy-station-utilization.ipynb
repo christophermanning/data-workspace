{
 "cells": [
  {
   "cell_type": "code",
   "execution_count": null,
   "id": "9699c6d1-01bd-48d3-94ad-0b2e7b58f580",
   "metadata": {
    "jupyter": {
     "source_hidden": true
    }
   },
   "outputs": [],
   "source": [
    "%%capture\n",
    "pip install duckdb ipywidgets ipyleaflet pandas"
   ]
  },
  {
   "cell_type": "code",
   "execution_count": null,
   "id": "986993c3-c855-44bd-a8e7-bba168ec878e",
   "metadata": {
    "jupyter": {
     "source_hidden": true
    }
   },
   "outputs": [],
   "source": [
    "from ipyleaflet import Map, Marker, Popup, LayerGroup, MarkerCluster, WidgetControl, AwesomeIcon\n",
    "from ipywidgets import HTML, IntSlider, Button, Layout\n",
    "import pandas as pd"
   ]
  },
  {
   "cell_type": "code",
   "execution_count": null,
   "id": "b84010e3-019c-4f6d-bf4c-025e593764bc",
   "metadata": {},
   "outputs": [],
   "source": [
    "import duckdb\n",
    "duckdb = duckdb.connect('/duckdb/dev.duckdb', config={})\n",
    "duckdb.query(\"INSTALL SPATIAL; LOAD SPATIAL\")"
   ]
  },
  {
   "cell_type": "code",
   "execution_count": null,
   "id": "45fb6b0e-5716-484c-9ed4-1fcbfbaa3d9f",
   "metadata": {},
   "outputs": [],
   "source": [
    "station_utilization_query = \"\"\"\n",
    "with events as (\n",
    "    select *\n",
    "    , e.event_at::DATE as date\n",
    "    , extract(MONTH from e.event_at) as month\n",
    "    from divvy_station_events e\n",
    "),\n",
    "grouped_events as (\n",
    "select s.name, s.lat, s.lon, s.active, count(*) as num_events\n",
    "from divvy_stations s\n",
    "\n",
    "left join events e on s.station_id = e.station_id\n",
    "\n",
    "where 1=1\n",
    "and s.active = true\n",
    "\n",
    "group by 1,2,3,4\n",
    "\n",
    "having 1=1\n",
    "\n",
    "-- a station's data and status is considered reliable if it has events spanning multiple months\n",
    "-- this filters stations that may have been inactive, are new, etc\n",
    "and count(distinct month) >= 3\n",
    "\n",
    "order by num_events desc\n",
    ")\n",
    "\n",
    "select * from (select * from grouped_events order by num_events desc limit $limit)\n",
    "union all\n",
    "select * from (select * from grouped_events order by num_events asc limit $limit)\n",
    "order by num_events desc\n",
    "\n",
    "\"\"\""
   ]
  },
  {
   "cell_type": "code",
   "execution_count": null,
   "id": "b3c6290a-463e-401a-ae3c-af1c40d46b06",
   "metadata": {},
   "outputs": [],
   "source": [
    "m = Map()\n",
    "\n",
    "def reset_zoom(self):\n",
    "    m.center = (41.8, -87.5)\n",
    "    m.zoom = 10\n",
    "\n",
    "\n",
    "reset_zoom(None)\n",
    "\n",
    "map_markers = LayerGroup()\n",
    "m.add(map_markers)\n",
    "\n",
    "button = Button(icon=\"home\", tooltip=\"Reset Zoom\", layout=Layout(width='35px'))\n",
    "button.on_click(reset_zoom)\n",
    "m.add(WidgetControl(widget=button, position='topleft'))\n",
    "\n",
    "slider = IntSlider(value=10, min=1, max=25, step=1, description='Limit:', style=dict(description_width='100px'), continuous_update=False)\n",
    "m.add(WidgetControl(widget=slider, position='topright'))\n",
    "\n",
    "display(m)"
   ]
  },
  {
   "cell_type": "code",
   "execution_count": null,
   "id": "69d46ed0-c316-4106-bed1-ce660f0c078e",
   "metadata": {
    "jupyter": {
     "source_hidden": true
    }
   },
   "outputs": [],
   "source": [
    "def draw_chart(change):\n",
    "    duckdb.query(station_utilization_query, params={\"limit\":change[\"new\"]}).df().plot.bar(x=\"name\", y=\"num_events\", title=\"Station Utilization\", logy=True)\n",
    "    \n",
    "draw_chart({'new': slider.value})\n",
    "slider.observe(draw_chart, names='value')"
   ]
  },
  {
   "cell_type": "code",
   "execution_count": null,
   "id": "2b2e9e21-f727-4503-b7d9-23281dd4b7e4",
   "metadata": {
    "jupyter": {
     "source_hidden": true
    }
   },
   "outputs": [],
   "source": [
    "def draw_markers(change):\n",
    "    map_markers.clear_layers()\n",
    "\n",
    "    rows = duckdb.query(station_utilization_query, params={\"limit\":change['new']}).fetchall()\n",
    "    \n",
    "    stations = {}\n",
    "    \n",
    "    for row in rows:\n",
    "        message = HTML()\n",
    "        message.value = f\"{row[0]}<br>{row[4]} events\"\n",
    "        map_markers.add(Marker(location=(row[1], row[2]), draggable=False, popup=message, icon=AwesomeIcon(name='bicycle', marker_color='lightblue' if row[4] < 1000 else 'blue')))\n",
    "        \n",
    "draw_markers({'new': slider.value})\n",
    "\n",
    "slider.observe(draw_markers, names='value')"
   ]
  }
 ],
 "metadata": {
  "kernelspec": {
   "display_name": "Python 3 (ipykernel)",
   "language": "python",
   "name": "python3"
  },
  "language_info": {
   "codemirror_mode": {
    "name": "ipython",
    "version": 3
   },
   "file_extension": ".py",
   "mimetype": "text/x-python",
   "name": "python",
   "nbconvert_exporter": "python",
   "pygments_lexer": "ipython3",
   "version": "3.11.10"
  }
 },
 "nbformat": 4,
 "nbformat_minor": 5
}
