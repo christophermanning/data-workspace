{
 "cells": [
  {
   "cell_type": "code",
   "execution_count": 1,
   "id": "9699c6d1-01bd-48d3-94ad-0b2e7b58f580",
   "metadata": {},
   "outputs": [],
   "source": [
    "%%capture\n",
    "pip install duckdb ipywidgets"
   ]
  },
  {
   "cell_type": "code",
   "execution_count": 2,
   "id": "b84010e3-019c-4f6d-bf4c-025e593764bc",
   "metadata": {},
   "outputs": [],
   "source": [
    "import duckdb\n",
    "duckdb = duckdb.connect('/duckdb/dev.duckdb', config={})\n",
    "duckdb.query(\"INSTALL SPATIAL; LOAD SPATIAL\")"
   ]
  },
  {
   "cell_type": "code",
   "execution_count": 3,
   "id": "a929920b-45b5-4ee7-97d9-f34739fde412",
   "metadata": {},
   "outputs": [
    {
     "name": "stdout",
     "output_type": "stream",
     "text": [
      "┌───────┐\n",
      "│   1   │\n",
      "│ int32 │\n",
      "├───────┤\n",
      "│     1 │\n",
      "└───────┘\n",
      "\n"
     ]
    }
   ],
   "source": [
    "duckdb.query(\"select 1\").show()"
   ]
  }
 ],
 "metadata": {
  "kernelspec": {
   "display_name": "Python 3 (ipykernel)",
   "language": "python",
   "name": "python3"
  },
  "language_info": {
   "codemirror_mode": {
    "name": "ipython",
    "version": 3
   },
   "file_extension": ".py",
   "mimetype": "text/x-python",
   "name": "python",
   "nbconvert_exporter": "python",
   "pygments_lexer": "ipython3",
   "version": "3.11.10"
  }
 },
 "nbformat": 4,
 "nbformat_minor": 5
}
