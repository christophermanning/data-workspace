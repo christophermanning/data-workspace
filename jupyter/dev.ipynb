{
 "cells": [
  {
   "cell_type": "code",
   "execution_count": 1,
   "id": "9699c6d1-01bd-48d3-94ad-0b2e7b58f580",
   "metadata": {},
   "outputs": [],
   "source": [
    "%%capture\n",
    "pip install duckdb ipywidgets"
   ]
  },
  {
   "cell_type": "code",
   "execution_count": 2,
   "id": "b84010e3-019c-4f6d-bf4c-025e593764bc",
   "metadata": {},
   "outputs": [],
   "source": [
    "import duckdb\n",
    "duckdb = duckdb.connect('/duckdb/dev.duckdb', config={})"
   ]
  },
  {
   "cell_type": "code",
   "execution_count": 3,
   "id": "a929920b-45b5-4ee7-97d9-f34739fde412",
   "metadata": {},
   "outputs": [
    {
     "data": {
      "text/plain": [
       "┌─────────────────────┐\n",
       "│        name         │\n",
       "│       varchar       │\n",
       "├─────────────────────┤\n",
       "│ days                │\n",
       "│ my_first_dbt_model  │\n",
       "│ my_second_dbt_model │\n",
       "└─────────────────────┘"
      ]
     },
     "execution_count": 3,
     "metadata": {},
     "output_type": "execute_result"
    }
   ],
   "source": [
    "duckdb.query(\"SHOW TABLES\")"
   ]
  },
  {
   "cell_type": "code",
   "execution_count": 4,
   "id": "cd10e4c0-4dd9-44a2-8052-b99c904bbbad",
   "metadata": {},
   "outputs": [
    {
     "data": {
      "text/plain": [
       "┌───────┬────────────┐\n",
       "│  id   │    date    │\n",
       "│ int64 │    date    │\n",
       "├───────┼────────────┤\n",
       "│     1 │ 2024-01-01 │\n",
       "│     2 │ 2024-01-02 │\n",
       "│     3 │ 2024-01-03 │\n",
       "│     4 │ 2024-01-04 │\n",
       "│     5 │ 2024-01-05 │\n",
       "│     6 │ 2024-01-06 │\n",
       "│     7 │ 2024-01-07 │\n",
       "│     8 │ 2024-01-08 │\n",
       "│     9 │ 2024-01-09 │\n",
       "│    10 │ 2024-01-10 │\n",
       "│     · │     ·      │\n",
       "│     · │     ·      │\n",
       "│     · │     ·      │\n",
       "│   722 │ 2025-12-22 │\n",
       "│   723 │ 2025-12-23 │\n",
       "│   724 │ 2025-12-24 │\n",
       "│   725 │ 2025-12-25 │\n",
       "│   726 │ 2025-12-26 │\n",
       "│   727 │ 2025-12-27 │\n",
       "│   728 │ 2025-12-28 │\n",
       "│   729 │ 2025-12-29 │\n",
       "│   730 │ 2025-12-30 │\n",
       "│   731 │ 2025-12-31 │\n",
       "├───────┴────────────┤\n",
       "│      731 rows      │\n",
       "│     (20 shown)     │\n",
       "└────────────────────┘"
      ]
     },
     "execution_count": 4,
     "metadata": {},
     "output_type": "execute_result"
    }
   ],
   "source": [
    "duckdb.query(\"SELECT * FROM days\")"
   ]
  }
 ],
 "metadata": {
  "kernelspec": {
   "display_name": "Python 3 (ipykernel)",
   "language": "python",
   "name": "python3"
  },
  "language_info": {
   "codemirror_mode": {
    "name": "ipython",
    "version": 3
   },
   "file_extension": ".py",
   "mimetype": "text/x-python",
   "name": "python",
   "nbconvert_exporter": "python",
   "pygments_lexer": "ipython3",
   "version": "3.11.9"
  }
 },
 "nbformat": 4,
 "nbformat_minor": 5
}
