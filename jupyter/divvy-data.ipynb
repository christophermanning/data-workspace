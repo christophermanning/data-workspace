{
 "cells": [
  {
   "cell_type": "code",
   "execution_count": null,
   "id": "986993c3-c855-44bd-a8e7-bba168ec878e",
   "metadata": {},
   "outputs": [],
   "source": [
    "import db"
   ]
  },
  {
   "cell_type": "code",
   "execution_count": null,
   "id": "2b4a1479-3cce-4511-9d49-905b5a8835fa",
   "metadata": {},
   "outputs": [],
   "source": [
    "db.query(\n",
    "    \"\"\"\n",
    " select \n",
    "    strftime(event_at, '%Y-%m') as month\n",
    "    , count(*) as num_events\n",
    "    from divvy_station_events e\n",
    "    group by 1\n",
    "    order by month asc\n",
    "\"\"\"\n",
    ").df().plot.bar(x=\"month\", title=\"Monthly Station Events\", rot=45)"
   ]
  }
 ],
 "metadata": {
  "kernelspec": {
   "display_name": "Python 3 (ipykernel)",
   "language": "python",
   "name": "python3"
  },
  "language_info": {
   "codemirror_mode": {
    "name": "ipython",
    "version": 3
   },
   "file_extension": ".py",
   "mimetype": "text/x-python",
   "name": "python",
   "nbconvert_exporter": "python",
   "pygments_lexer": "ipython3",
   "version": "3.11.10"
  }
 },
 "nbformat": 4,
 "nbformat_minor": 5
}
