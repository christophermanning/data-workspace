{
 "cells": [
  {
   "cell_type": "code",
   "execution_count": null,
   "id": "986993c3-c855-44bd-a8e7-bba168ec878e",
   "metadata": {},
   "outputs": [],
   "source": [
    "import db\n",
    "from map import Map, Marker\n",
    "\n",
    "from ipyleaflet import (\n",
    "    Popup,\n",
    "    LayerGroup,\n",
    "    WidgetControl,\n",
    "    AwesomeIcon,\n",
    "    AntPath,\n",
    ")\n",
    "from ipywidgets import HTML, IntSlider, Button, Layout"
   ]
  },
  {
   "cell_type": "code",
   "execution_count": null,
   "id": "cd4132ab-ad15-400b-be8e-9550d2f8dc61",
   "metadata": {},
   "outputs": [],
   "source": [
    "top_trips_query = \"\"\"\n",
    "    with rides as (\n",
    "        select start_station_id, end_station_id, count(*) as num_rides\n",
    "        \n",
    "        from divvy_station_trips e \n",
    "        \n",
    "        group by 1,2\n",
    "    )\n",
    "    \n",
    "    select r.*\n",
    "    \n",
    "    , start_s.name as start_name\n",
    "    , start_s.lat as start_lat\n",
    "    , start_s.lon as start_lon\n",
    "    \n",
    "    \n",
    "    , end_s.name as end_name\n",
    "    , end_s.lat as end_lat\n",
    "    , end_s.lon as end_lon\n",
    "    \n",
    "    from rides r\n",
    "    \n",
    "    left join divvy_stations start_s on start_s.station_id = r.start_station_id\n",
    "    left join divvy_stations end_s on end_s.station_id = r.end_station_id\n",
    "    \n",
    "    order by num_rides desc\n",
    "\"\"\"\n",
    "db.query(top_trips_query)"
   ]
  },
  {
   "cell_type": "code",
   "execution_count": null,
   "id": "a8b97b21-644f-439f-9d67-7ca17685e7f2",
   "metadata": {},
   "outputs": [],
   "source": [
    "m = Map((41.8, -87.5))\n",
    "m.m.layout = Layout(height=\"1000px\")\n",
    "\n",
    "map_markers = LayerGroup()\n",
    "m.add(map_markers)\n",
    "\n",
    "slider = IntSlider(\n",
    "    value=10,\n",
    "    min=1,\n",
    "    max=50,\n",
    "    step=1,\n",
    "    description=\"Limit:\",\n",
    "    style=dict(description_width=\"100px\"),\n",
    "    continuous_update=False,\n",
    ")\n",
    "m.add(WidgetControl(widget=slider, position=\"topright\"))\n",
    "\n",
    "display(m)"
   ]
  },
  {
   "cell_type": "code",
   "execution_count": null,
   "id": "c1a34aa0-13f9-49ef-a1ed-46814cd7ee31",
   "metadata": {},
   "outputs": [],
   "source": [
    "def draw_markers(change):\n",
    "    map_markers.clear_layers()\n",
    "\n",
    "    top_trips = db.query(f\"{top_trips_query} limit {int(change['new'])}\").fetchall()\n",
    "\n",
    "    for row in top_trips:\n",
    "        m.markers.append(Marker((row[4], row[5]), f\"{row[3]}\", \"bicycle\"))\n",
    "\n",
    "        ant_path = AntPath(\n",
    "            locations=[[row[4], row[5]], [row[7], row[8]]],\n",
    "            dash_array=[1, 20],\n",
    "            delay=3000,\n",
    "            color=\"#7590ba\",\n",
    "            pulse_color=\"#3f6fba\",\n",
    "        )\n",
    "\n",
    "        map_markers.add(ant_path)\n",
    "\n",
    "        m.markers.append(Marker((row[7], row[8]), f\"{row[6]}\", \"bicycle\"))\n",
    "\n",
    "    m.redraw()\n",
    "\n",
    "\n",
    "draw_markers({\"new\": slider.value})\n",
    "slider.observe(draw_markers, names=\"value\")"
   ]
  },
  {
   "cell_type": "code",
   "execution_count": null,
   "id": "56652dd7-ae68-4482-a00e-946b1a0d0db8",
   "metadata": {},
   "outputs": [],
   "source": [
    "out_of_bounds = db.query(\n",
    "    \"\"\"\n",
    "with buffered as (\n",
    "    select id, st_buffer(geom, 0.005) as geom\n",
    "    from boundaries\n",
    "    where id = 'IL'\n",
    ")\n",
    "\n",
    "select lat, lon, e.event_at\n",
    "from divvy_station_events e\n",
    "left join buffered b on st_contains(b.geom, st_flipcoordinates(e.geom))\n",
    "where b.id is null\n",
    "\"\"\"\n",
    ")\n",
    "out_of_bounds"
   ]
  },
  {
   "cell_type": "code",
   "execution_count": null,
   "id": "90f0554d-16ad-41ba-8771-24ad983b711e",
   "metadata": {},
   "outputs": [],
   "source": [
    "boundaries = db.query(\n",
    "    \"\"\"\n",
    "select id, st_asgeojson(st_buffer(geom, 0.005)) as geom\n",
    "from boundaries\n",
    "where id = 'IL' \n",
    "\"\"\"\n",
    ")"
   ]
  },
  {
   "cell_type": "code",
   "execution_count": null,
   "id": "02728cba-eb47-4c8e-8558-070f0c071cbd",
   "metadata": {},
   "outputs": [],
   "source": [
    "from ipyleaflet import GeoJSON\n",
    "import json\n",
    "\n",
    "m = Map((41.85, -87.5))\n",
    "for row in out_of_bounds.fetchall():\n",
    "    m.markers.append(Marker((row[0], row[1]), str(row[2]), \"bicycle\"))\n",
    "m\n",
    "\n",
    "for row in boundaries.fetchall():\n",
    "    geo_json = GeoJSON(data=json.loads(row[1]), style={\"color\": \"blue\", \"weight\": 1})\n",
    "    m.add(geo_json)\n",
    "m"
   ]
  }
 ],
 "metadata": {
  "kernelspec": {
   "display_name": "Python 3 (ipykernel)",
   "language": "python",
   "name": "python3"
  },
  "language_info": {
   "codemirror_mode": {
    "name": "ipython",
    "version": 3
   },
   "file_extension": ".py",
   "mimetype": "text/x-python",
   "name": "python",
   "nbconvert_exporter": "python",
   "pygments_lexer": "ipython3",
   "version": "3.11.10"
  }
 },
 "nbformat": 4,
 "nbformat_minor": 5
}
