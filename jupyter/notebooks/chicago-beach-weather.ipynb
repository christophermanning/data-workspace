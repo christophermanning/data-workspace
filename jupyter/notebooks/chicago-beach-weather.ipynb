{
 "cells": [
  {
   "cell_type": "code",
   "execution_count": null,
   "id": "986993c3-c855-44bd-a8e7-bba168ec878e",
   "metadata": {},
   "outputs": [],
   "source": [
    "from map import Map, Marker\n",
    "import db"
   ]
  },
  {
   "cell_type": "code",
   "execution_count": null,
   "id": "45fb6b0e-5716-484c-9ed4-1fcbfbaa3d9f",
   "metadata": {},
   "outputs": [],
   "source": [
    "stations = db.query(\n",
    "    \"\"\"\n",
    "select sensor_name, sensor_type, latitude, longitude, count(*) as num_measurements\n",
    ", case when min(we.air_temperature) then min(we.air_temperature) else min(wa.water_temperature) end as min_temp\n",
    ", case when max(we.air_temperature) then max(we.air_temperature) else max(wa.water_temperature) end as max_temp\n",
    "from raw.chicago_beach_weather_stations as s\n",
    "left join raw.chicago_beach_weather_measurements we on we.station_name = s.sensor_name\n",
    "left join raw.chicago_beach_water_measurements wa on wa.beach_name = s.sensor_name\n",
    "group by 1,2,3,4\n",
    "order by 1\n",
    "\"\"\"\n",
    ")\n",
    "stations"
   ]
  },
  {
   "cell_type": "code",
   "execution_count": null,
   "id": "b3c6290a-463e-401a-ae3c-af1c40d46b06",
   "metadata": {},
   "outputs": [],
   "source": [
    "m = Map((41.85, -87.5))\n",
    "for row in stations.fetchall():\n",
    "    m.markers.append(\n",
    "        Marker((row[2], row[3]), f\"{row[0]} - {row[1]}\", \"thermometer-three-quarters\")\n",
    "    )\n",
    "m"
   ]
  }
 ],
 "metadata": {
  "kernelspec": {
   "display_name": "Python 3 (ipykernel)",
   "language": "python",
   "name": "python3"
  },
  "language_info": {
   "codemirror_mode": {
    "name": "ipython",
    "version": 3
   },
   "file_extension": ".py",
   "mimetype": "text/x-python",
   "name": "python",
   "nbconvert_exporter": "python",
   "pygments_lexer": "ipython3",
   "version": "3.11.10"
  }
 },
 "nbformat": 4,
 "nbformat_minor": 5
}
