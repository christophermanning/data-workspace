{
 "cells": [
  {
   "cell_type": "code",
   "execution_count": null,
   "id": "55c219f2-328d-4484-b90a-2fc146cf5756",
   "metadata": {},
   "outputs": [],
   "source": [
    "from map import Map, Marker\n",
    "import db"
   ]
  },
  {
   "cell_type": "code",
   "execution_count": null,
   "id": "862eaf49-372b-4c20-bf88-533522fc7b8e",
   "metadata": {},
   "outputs": [],
   "source": [
    "boundaries = db.query(\n",
    "    \"\"\"\n",
    "select st_asgeojson(geom) from boundaries\n",
    "where id = 'chicago' \n",
    "\"\"\"\n",
    ")"
   ]
  },
  {
   "cell_type": "code",
   "execution_count": null,
   "id": "b2127d00-27d4-441a-9e83-2d7ed8711623",
   "metadata": {},
   "outputs": [],
   "source": [
    "wards = db.query(\n",
    "    \"\"\"\n",
    "select id, st_asgeojson(geom)\n",
    "from stg_chicago__wards\n",
    "\"\"\"\n",
    ")"
   ]
  },
  {
   "cell_type": "code",
   "execution_count": null,
   "id": "4622b418-3357-4ed5-bbd8-29a2b14e5805",
   "metadata": {},
   "outputs": [],
   "source": [
    "from ipyleaflet import GeoJSON, WidgetControl\n",
    "from ipywidgets import Label, Layout\n",
    "\n",
    "import json\n",
    "\n",
    "m = Map((41.83, -87.6))\n",
    "\n",
    "for row in boundaries.fetchall():\n",
    "    geo_json = GeoJSON(data=json.loads(row[0]), style={\"color\": \"blue\", \"weight\": 3})\n",
    "    m.add(geo_json)\n",
    "\n",
    "label = Label(layout=Layout(width=\"100%\"))\n",
    "m.add(WidgetControl(widget=label, position=\"topright\"))\n",
    "\n",
    "\n",
    "def hover_handler(event=None, feature=None, id=None, properties=None):\n",
    "    label.value = f'Ward: {feature[\"properties\"][\"id\"]}'\n",
    "\n",
    "\n",
    "for row in wards.fetchall():\n",
    "    data = json.loads(row[1])\n",
    "    data[\"properties\"] = {}\n",
    "    data[\"properties\"][\"id\"] = str(row[0])\n",
    "    geo_json = GeoJSON(\n",
    "        data=data,\n",
    "        style={\"weight\": 1},\n",
    "        hover_style={\"fillOpacity\": 0.5},\n",
    "    )\n",
    "    m.add(geo_json)\n",
    "\n",
    "    geo_json.on_hover(hover_handler)\n",
    "\n",
    "m"
   ]
  }
 ],
 "metadata": {
  "kernelspec": {
   "display_name": "Python 3 (ipykernel)",
   "language": "python",
   "name": "python3"
  },
  "language_info": {
   "codemirror_mode": {
    "name": "ipython",
    "version": 3
   },
   "file_extension": ".py",
   "mimetype": "text/x-python",
   "name": "python",
   "nbconvert_exporter": "python",
   "pygments_lexer": "ipython3",
   "version": "3.11.10"
  }
 },
 "nbformat": 4,
 "nbformat_minor": 5
}
