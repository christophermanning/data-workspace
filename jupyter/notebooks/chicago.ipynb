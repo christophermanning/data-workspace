{
 "cells": [
  {
   "cell_type": "code",
   "execution_count": null,
   "id": "55c219f2-328d-4484-b90a-2fc146cf5756",
   "metadata": {},
   "outputs": [],
   "source": [
    "from map import Map, Marker\n",
    "import db"
   ]
  },
  {
   "cell_type": "code",
   "execution_count": null,
   "id": "862eaf49-372b-4c20-bf88-533522fc7b8e",
   "metadata": {},
   "outputs": [],
   "source": [
    "boundaries = db.query(\n",
    "    \"\"\"\n",
    "select st_asgeojson(geom) from boundaries\n",
    "where id = 'chicago' \n",
    "\"\"\"\n",
    ")"
   ]
  },
  {
   "cell_type": "code",
   "execution_count": null,
   "id": "b2127d00-27d4-441a-9e83-2d7ed8711623",
   "metadata": {},
   "outputs": [],
   "source": [
    "wards = db.query(\n",
    "    \"\"\"\n",
    "select ward, st_asgeojson(geom) from stg_chicago__wards\n",
    "\"\"\"\n",
    ")"
   ]
  },
  {
   "cell_type": "code",
   "execution_count": null,
   "id": "4622b418-3357-4ed5-bbd8-29a2b14e5805",
   "metadata": {},
   "outputs": [],
   "source": [
    "from ipyleaflet import GeoJSON\n",
    "import json\n",
    "\n",
    "m = Map((41.83, -87.5))\n",
    "\n",
    "for row in boundaries.fetchall():\n",
    "    geo_json = GeoJSON(data=json.loads(row[0]), style={\"color\": \"red\", \"weight\": 5})\n",
    "    m.add(geo_json)\n",
    "\n",
    "for row in wards.fetchall():\n",
    "    geo_json = GeoJSON(\n",
    "        data=json.loads(row[1]),\n",
    "        style={\"weight\": 1},\n",
    "        hover_style={\"fillOpacity\": 0.5},\n",
    "    )\n",
    "    m.add(geo_json)\n",
    "\n",
    "m"
   ]
  }
 ],
 "metadata": {
  "kernelspec": {
   "display_name": "Python 3 (ipykernel)",
   "language": "python",
   "name": "python3"
  },
  "language_info": {
   "codemirror_mode": {
    "name": "ipython",
    "version": 3
   },
   "file_extension": ".py",
   "mimetype": "text/x-python",
   "name": "python",
   "nbconvert_exporter": "python",
   "pygments_lexer": "ipython3",
   "version": "3.11.10"
  }
 },
 "nbformat": 4,
 "nbformat_minor": 5
}
