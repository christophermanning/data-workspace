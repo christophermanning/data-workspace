{
 "cells": [
  {
   "cell_type": "code",
   "execution_count": null,
   "id": "d2313c32-7598-407e-9358-e13342fc2c83",
   "metadata": {},
   "outputs": [],
   "source": [
    "from map import Map, Marker\n",
    "import db"
   ]
  },
  {
   "cell_type": "code",
   "execution_count": null,
   "id": "3dd36f3b-a466-4a35-83b6-d396d9c44268",
   "metadata": {},
   "outputs": [],
   "source": [
    "locations = db.query(\n",
    "    \"\"\"\n",
    "select round(lat, 5) as lat, round(lon, 6) as lon, count(*) as num_events\n",
    "\n",
    "from chicago_escooter_events\n",
    "\n",
    "group by 1,2\n",
    "having num_events > 10\n",
    "order by 3 desc\n",
    "\"\"\"\n",
    ")\n",
    "locations"
   ]
  },
  {
   "cell_type": "code",
   "execution_count": null,
   "id": "b4cf05b7-4008-45c8-aff8-3859dc770d65",
   "metadata": {},
   "outputs": [],
   "source": [
    "m = Map((41.85, -87.5))\n",
    "for row in locations.fetchall():\n",
    "    m.markers.append(Marker((row[0], row[1]), f\"Num Events: {row[2]}\", \"gear\"))\n",
    "m"
   ]
  },
  {
   "cell_type": "code",
   "execution_count": null,
   "id": "f5e85b38-29fe-4fed-8687-f879b256b499",
   "metadata": {},
   "outputs": [],
   "source": [
    "db.query(\n",
    "    \"\"\"\n",
    "select vendor, max(start_time) as start_time, max(end_time) as end_time, count(*) num_trips, sum(trip_distance) total_trip_distance\n",
    "\n",
    "from raw.chicago_escooter_trips\n",
    "\n",
    "group by 1\n",
    "order by num_trips desc\n",
    "\"\"\"\n",
    ")"
   ]
  },
  {
   "cell_type": "code",
   "execution_count": null,
   "id": "a6bd16de-467d-4305-93f8-d69e877f226b",
   "metadata": {},
   "outputs": [],
   "source": [
    "db.query(\n",
    "    \"\"\"\n",
    "    select \n",
    "    community_area_name, count(*) as num_events\n",
    "    from chicago_escooter_events\n",
    "    group by 1\n",
    "    having num_events > 10\n",
    "    order by 2 desc\n",
    "\"\"\"\n",
    ").df().plot.bar(\n",
    "    x=\"community_area_name\", title=\"Monthly Station Events\", rot=45, figsize=(20, 5)\n",
    ")"
   ]
  },
  {
   "cell_type": "code",
   "execution_count": null,
   "id": "ffbbd567-0b3a-43a6-ac17-7b6b7f0d7880",
   "metadata": {},
   "outputs": [],
   "source": [
    "db.query(\n",
    "    \"\"\"\n",
    " select \n",
    "    strftime(event_at, '%Y-%m') as month\n",
    "    , count(*) as num_events\n",
    "    from chicago_escooter_events e\n",
    "    group by 1\n",
    "    order by month asc\n",
    "\"\"\"\n",
    ").df().plot.bar(x=\"month\", title=\"Monthly Events\", rot=45)"
   ]
  },
  {
   "cell_type": "code",
   "execution_count": null,
   "id": "739ce2a8-6959-48b7-9913-247f56d04f58",
   "metadata": {},
   "outputs": [],
   "source": [
    "db.query(\n",
    "    \"\"\"\n",
    "select * from raw.chicago_escooter_trips\n",
    "\"\"\"\n",
    ")"
   ]
  }
 ],
 "metadata": {
  "kernelspec": {
   "display_name": "Python 3 (ipykernel)",
   "language": "python",
   "name": "python3"
  },
  "language_info": {
   "codemirror_mode": {
    "name": "ipython",
    "version": 3
   },
   "file_extension": ".py",
   "mimetype": "text/x-python",
   "name": "python",
   "nbconvert_exporter": "python",
   "pygments_lexer": "ipython3",
   "version": "3.11.10"
  }
 },
 "nbformat": 4,
 "nbformat_minor": 5
}
