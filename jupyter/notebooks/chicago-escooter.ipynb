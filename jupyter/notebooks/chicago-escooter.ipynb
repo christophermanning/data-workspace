{
 "cells": [
  {
   "cell_type": "code",
   "execution_count": null,
   "id": "d2313c32-7598-407e-9358-e13342fc2c83",
   "metadata": {},
   "outputs": [],
   "source": [
    "from map import Map, Marker\n",
    "import db"
   ]
  },
  {
   "cell_type": "code",
   "execution_count": null,
   "id": "3dd36f3b-a466-4a35-83b6-d396d9c44268",
   "metadata": {},
   "outputs": [],
   "source": [
    "locations = db.query(\n",
    "    \"\"\"\n",
    "select round(st_x(geom), 5), round(st_y(geom), 6), count(*) as num_events\n",
    "\n",
    "from chicago_escooter_events\n",
    "\n",
    "group by 1,2\n",
    "having num_events > 10\n",
    "order by 3 desc\n",
    "\"\"\"\n",
    ")"
   ]
  },
  {
   "cell_type": "code",
   "execution_count": null,
   "id": "b4cf05b7-4008-45c8-aff8-3859dc770d65",
   "metadata": {},
   "outputs": [],
   "source": [
    "m = Map((41.85, -87.5))\n",
    "for row in locations.fetchall():\n",
    "    m.markers.append(Marker((row[1], row[0]), f\"Num Events: {row[2]}\", \"gear\"))\n",
    "m"
   ]
  },
  {
   "cell_type": "code",
   "execution_count": null,
   "id": "f5e85b38-29fe-4fed-8687-f879b256b499",
   "metadata": {},
   "outputs": [],
   "source": [
    "db.query(\n",
    "    \"\"\"\n",
    "select vendor, max(start_time) as start_time, max(end_time) as end_time, count(*) num_trips, sum(trip_distance) total_trip_distance\n",
    "\n",
    "from raw.chicago_escooter_trips\n",
    "\n",
    "group by 1\n",
    "order by num_trips desc\n",
    "\"\"\"\n",
    ")"
   ]
  },
  {
   "cell_type": "code",
   "execution_count": null,
   "id": "a6bd16de-467d-4305-93f8-d69e877f226b",
   "metadata": {},
   "outputs": [],
   "source": [
    "db.query(\n",
    "    \"\"\"\n",
    "    select \n",
    "    community_area_name, count(*) as num_events\n",
    "    from chicago_escooter_events\n",
    "    group by 1\n",
    "    having num_events > 50\n",
    "    order by 2 desc\n",
    "\"\"\"\n",
    ").df().plot.bar(\n",
    "    x=\"community_area_name\", title=\"Monthly Station Events\", rot=45, figsize=(20, 5)\n",
    ")"
   ]
  },
  {
   "cell_type": "code",
   "execution_count": null,
   "id": "ffbbd567-0b3a-43a6-ac17-7b6b7f0d7880",
   "metadata": {},
   "outputs": [],
   "source": [
    "db.query(\n",
    "    \"\"\"\n",
    " select \n",
    "    strftime(event_at, '%Y-%m') as month\n",
    "    , count(*) as num_events\n",
    "    from chicago_escooter_events e\n",
    "    group by 1\n",
    "    order by month asc\n",
    "\"\"\"\n",
    ").df().plot.bar(x=\"month\", title=\"Monthly Events\", rot=45)"
   ]
  },
  {
   "cell_type": "code",
   "execution_count": null,
   "id": "5c9c104c-b2f0-46fd-a26f-16ad5d52f498",
   "metadata": {},
   "outputs": [],
   "source": [
    "out_of_bounds = db.query(\n",
    "    \"\"\"\n",
    "select st_x(e.geom), st_y(e.geom), e.trip_id\n",
    "from chicago_escooter_events e\n",
    "left join boundaries w on st_contains(w.geom, e.geom)\n",
    "where w.geom is null\n",
    "limit 1000\n",
    "\"\"\"\n",
    ")\n",
    "out_of_bounds"
   ]
  },
  {
   "cell_type": "code",
   "execution_count": null,
   "id": "86535207-4a9a-429f-8187-ad3c0fb5ccca",
   "metadata": {},
   "outputs": [],
   "source": [
    "boundaries = db.query(\n",
    "    \"\"\"\n",
    "select st_asgeojson(geom) from boundaries\n",
    "where id = 'chicago' \n",
    "\"\"\"\n",
    ")"
   ]
  },
  {
   "cell_type": "code",
   "execution_count": null,
   "id": "5998c968-56da-4ed6-b3c1-5f9186d041c0",
   "metadata": {},
   "outputs": [],
   "source": [
    "from ipyleaflet import GeoJSON\n",
    "import json\n",
    "\n",
    "m = Map((41.84, -87.5))\n",
    "for row in out_of_bounds.fetchall():\n",
    "    m.markers.append(Marker((row[1], row[0]), f\"Num Events: {row[2]}\", \"question\"))\n",
    "\n",
    "for row in boundaries.fetchall():\n",
    "    geo_json = GeoJSON(data=json.loads(row[0]), style={\"color\": \"blue\", \"weight\": 1})\n",
    "    m.add(geo_json)\n",
    "m"
   ]
  },
  {
   "cell_type": "code",
   "execution_count": null,
   "id": "739ce2a8-6959-48b7-9913-247f56d04f58",
   "metadata": {},
   "outputs": [],
   "source": [
    "db.query(\n",
    "    \"\"\"\n",
    "select * from raw.chicago_escooter_trips\n",
    "limit 10\n",
    "\"\"\"\n",
    ")"
   ]
  }
 ],
 "metadata": {
  "kernelspec": {
   "display_name": "Python 3 (ipykernel)",
   "language": "python",
   "name": "python3"
  },
  "language_info": {
   "codemirror_mode": {
    "name": "ipython",
    "version": 3
   },
   "file_extension": ".py",
   "mimetype": "text/x-python",
   "name": "python",
   "nbconvert_exporter": "python",
   "pygments_lexer": "ipython3",
   "version": "3.11.10"
  }
 },
 "nbformat": 4,
 "nbformat_minor": 5
}
