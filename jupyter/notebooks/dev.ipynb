{
 "cells": [
  {
   "cell_type": "code",
   "execution_count": null,
   "id": "e62b8cf4-aaa3-44b5-9307-14d9fda0ed81",
   "metadata": {},
   "outputs": [],
   "source": [
    "import db"
   ]
  },
  {
   "cell_type": "code",
   "execution_count": null,
   "id": "a929920b-45b5-4ee7-97d9-f34739fde412",
   "metadata": {},
   "outputs": [],
   "source": [
    "db.query(\"select 1\")"
   ]
  },
  {
   "cell_type": "code",
   "execution_count": null,
   "id": "56308ef1-3f1f-4410-b561-ee51d5d9b5d7",
   "metadata": {},
   "outputs": [],
   "source": [
    "db.query(\"select 1\").fetchall()"
   ]
  },
  {
   "cell_type": "code",
   "execution_count": null,
   "id": "44b0874b-d168-4d14-a6a2-2e9f353c0e7c",
   "metadata": {},
   "outputs": [],
   "source": [
    "db.query(\"select 1\").df()"
   ]
  }
 ],
 "metadata": {
  "kernelspec": {
   "display_name": "Python 3 (ipykernel)",
   "language": "python",
   "name": "python3"
  },
  "language_info": {
   "codemirror_mode": {
    "name": "ipython",
    "version": 3
   },
   "file_extension": ".py",
   "mimetype": "text/x-python",
   "name": "python",
   "nbconvert_exporter": "python",
   "pygments_lexer": "ipython3",
   "version": "3.11.10"
  }
 },
 "nbformat": 4,
 "nbformat_minor": 5
}
